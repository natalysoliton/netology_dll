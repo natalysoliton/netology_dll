{
  "cells": [
    {
      "cell_type": "markdown",
      "metadata": {
        "id": "-9ScrpjBWvY2"
      },
      "source": [
        "### Задача:\n",
        "\n",
        "Датасет https://www.kaggle.com/ajayrana/hymenoptera-data/kernels"
      ]
    },
    {
      "cell_type": "markdown",
      "metadata": {
        "id": "BT3nWZed5Hp8"
      },
      "source": [
        "\n",
        "1.Обучите модели ResNet 18 и VGG 16 с нуля (5-10 эпох)\n",
        "\n",
        "2.Обучите на нем модели ResNet 18 и VGG 16 с использованием FineTuning (5-10 эпох)\n",
        "\n",
        "3.Добавьте аугментацию данных к пункту 2\n",
        "\n",
        "Сравните качество всех 3 полученных подходов\n",
        "\n",
        "4.Примените FineTuning ResNet 18 к FashionMnist. "
      ]
    },
    {
      "cell_type": "code",
      "execution_count": 1,
      "metadata": {
        "id": "m3RMaxGlakEx"
      },
      "outputs": [],
      "source": [
        "import torch\n",
        "from torch import nn\n",
        "import torchvision as tv\n",
        "from torchvision import datasets, models, transforms\n",
        "import torch.optim as optim\n",
        "import time"
      ]
    },
    {
      "cell_type": "code",
      "execution_count": 2,
      "metadata": {
        "id": "O1abZ4octz-6"
      },
      "outputs": [],
      "source": [
        "import numpy as np\n",
        "import copy\n",
        "import matplotlib.pyplot as plt"
      ]
    },
    {
      "cell_type": "code",
      "execution_count": 3,
      "metadata": {
        "id": "AObYk7DbovUs"
      },
      "outputs": [],
      "source": [
        "import os\n",
        "import sys\n",
        "from google.colab import drive "
      ]
    },
    {
      "cell_type": "code",
      "execution_count": 7,
      "metadata": {
        "colab": {
          "base_uri": "https://localhost:8080/"
        },
        "id": "wkKa2S1so4jE",
        "outputId": "6f298b86-7d3e-4de6-91a0-62f553c70ac1"
      },
      "outputs": [
        {
          "name": "stdout",
          "output_type": "stream",
          "text": [
            "Mounted at /content/drive\n"
          ]
        }
      ],
      "source": [
        "drive.mount('/content/drive')"
      ]
    },
    {
      "cell_type": "markdown",
      "metadata": {
        "id": "zLOLZ0pLakEy"
      },
      "source": [
        "\n",
        "DataSet"
      ]
    },
    {
      "cell_type": "code",
      "execution_count": 8,
      "metadata": {
        "id": "zGQgGJQtrU9Z"
      },
      "outputs": [],
      "source": [
        "data_transforms = {\n",
        "    'train':tv.transforms.Compose(  [\n",
        "            tv.transforms.CenterCrop(224),\n",
        "            tv.transforms.ToTensor(),\n",
        "            tv.transforms.Normalize([0.485, 0.456, 0.406], [0.229, 0.224, 0.225])\n",
        "                                    ]),\n",
        "    'val': tv.transforms.Compose(   [\n",
        "            tv.transforms.Resize(256),\n",
        "            tv.transforms.CenterCrop(224),\n",
        "            tv.transforms.ToTensor(),\n",
        "            tv.transforms.Normalize([0.485, 0.456, 0.406], [0.229, 0.224, 0.225])\n",
        "                                    ]),\n",
        "                    }\n",
        "\n",
        "\n",
        "data_dir = '/content/drive/My Drive/DLL/hymenoptera_data/'\n",
        "\n",
        "image_datasets = {x: tv.datasets.ImageFolder(os.path.join(data_dir, x),\n",
        "                                             data_transforms[x])\n",
        "                  for x in ['train', 'val']}\n",
        "\n",
        "dataloaders    = {x: torch.utils.data.DataLoader(image_datasets[x], \n",
        "                                              batch_size=18, #24\n",
        "                                              shuffle=True\n",
        "                                              )\n",
        "                  for x in ['train', 'val']}\n",
        "\n",
        "dataset_sizes = {x: len(image_datasets[x]) for x in ['train', 'val']}\n",
        "\n",
        "class_names = image_datasets['train'].classes\n",
        "\n",
        "dev = torch.device(\"cuda\") if torch.cuda.is_available() else torch.device(\"cpu\")"
      ]
    },
    {
      "cell_type": "code",
      "execution_count": null,
      "metadata": {
        "colab": {
          "base_uri": "https://localhost:8080/"
        },
        "id": "v-6AQ6gevEji",
        "outputId": "6b91f357-283f-4bba-985c-10497a9ab77e"
      },
      "outputs": [
        {
          "data": {
            "text/plain": [
              "(<torch.utils.data.dataloader.DataLoader at 0x7ff1c97f2050>,\n",
              " <torch.utils.data.dataloader.DataLoader at 0x7ff1c8d9db50>)"
            ]
          },
          "execution_count": 112,
          "metadata": {},
          "output_type": "execute_result"
        }
      ],
      "source": [
        "dataloaders['train'], dataloaders['val']"
      ]
    },
    {
      "cell_type": "code",
      "execution_count": null,
      "metadata": {
        "colab": {
          "base_uri": "https://localhost:8080/"
        },
        "id": "SOjTnbtfWQp3",
        "outputId": "ac4558dc-d8b8-49e0-93d4-72e06af3514a"
      },
      "outputs": [
        {
          "data": {
            "text/plain": [
              "torch.Size([3, 224, 224])"
            ]
          },
          "execution_count": 113,
          "metadata": {},
          "output_type": "execute_result"
        }
      ],
      "source": [
        "image_datasets['train'][0][0].shape"
      ]
    },
    {
      "cell_type": "code",
      "execution_count": null,
      "metadata": {
        "colab": {
          "base_uri": "https://localhost:8080/",
          "height": 303
        },
        "id": "iiTHcYIxsCWT",
        "outputId": "11d87b81-1aa7-4fc4-d7c0-1b4edd2eb6f4"
      },
      "outputs": [
        {
          "name": "stderr",
          "output_type": "stream",
          "text": [
            "Clipping input data to the valid range for imshow with RGB data ([0..1] for floats or [0..255] for integers).\n"
          ]
        },
        {
          "data": {
            "image/png": "[encoded data removed]",
            "text/plain": [
              "<Figure size 432x288 with 1 Axes>"
            ]
          },
          "metadata": {
            "needs_background": "light"
          },
          "output_type": "display_data"
        },
        {
          "name": "stdout",
          "output_type": "stream",
          "text": [
            "bees\n"
          ]
        }
      ],
      "source": [
        "image,label = image_datasets['train'][221]\n",
        "plt.imshow(image.permute(2,1,0))\n",
        "plt.show()\n",
        "print(image_datasets['train'].classes[label])"
      ]
    },
    {
      "cell_type": "code",
      "execution_count": 13,
      "metadata": {
        "id": "glnUvp2c1Mma"
      },
      "outputs": [],
      "source": [
        "def evaluate_accuracy(data_iter, net, dev):\n",
        "    acc_sum, n = torch.Tensor([0]).to(dev), 0\n",
        "    net.eval()\n",
        "    for X, y in data_iter:\n",
        "        X, y = X.to(dev), y.to(dev)\n",
        "        acc_sum += (net(X).argmax(axis=1) == y).sum()\n",
        "        n += y.shape[0]\n",
        "    return acc_sum.item() / n"
      ]
    },
    {
      "cell_type": "code",
      "execution_count": 14,
      "metadata": {
        "id": "K0xLmYUH1Mo8"
      },
      "outputs": [],
      "source": [
        "def train(net, train_iter, test_iter, trainer, num_epochs, dev):\n",
        "    loss = nn.CrossEntropyLoss(reduction='sum')\n",
        "    net.train()\n",
        "    for epoch in range(num_epochs):\n",
        "        train_l_sum, train_acc_sum, n, start = 0.0, 0.0, 0, time.time()\n",
        "        for X, y in train_iter:\n",
        "            trainer.zero_grad()\n",
        "            X, y = X.to(dev), y.to(dev)\n",
        "            y_hat = net(X)\n",
        "            l = loss(y_hat, y)\n",
        "            l.backward()\n",
        "            trainer.step()\n",
        "            train_l_sum += l.item()\n",
        "            train_acc_sum += (y_hat.argmax(axis=1) == y).sum().item()\n",
        "            n += y.shape[0]\n",
        "            #print(\"Step. time since epoch: {:.3f}. Train acc: {:.3f}. Train Loss: {:.3f}\".format(time.time() -  start,\n",
        "             #   (y_hat.argmax(axis=1) == y).sum().item() / y.shape[0], l.item()))\n",
        "        test_acc = evaluate_accuracy(test_iter, net, dev)\n",
        "        print('epoch %d, loss %.4f, train acc %.3f, test acc %.3f, '\n",
        "              'time %.1f sec'\n",
        "              % (epoch + 1, train_l_sum / n, train_acc_sum / n, test_acc,\n",
        "                 time.time() - start))"
      ]
    },
    {
      "cell_type": "markdown",
      "metadata": {
        "id": "ZKZ8-ZpUC_7W"
      },
      "source": [
        "ResNet 18 с нуля"
      ]
    },
    {
      "cell_type": "code",
      "execution_count": null,
      "metadata": {
        "id": "Gb_RienZ0xO9"
      },
      "outputs": [],
      "source": [
        "model_resnet_0 = models.resnet18()"
      ]
    },
    {
      "cell_type": "code",
      "execution_count": null,
      "metadata": {
        "id": "4TLdgS9kubZ2"
      },
      "outputs": [],
      "source": [
        "model_resnet_0 = model_resnet_0.to(dev)"
      ]
    },
    {
      "cell_type": "code",
      "execution_count": null,
      "metadata": {
        "colab": {
          "base_uri": "https://localhost:8080/"
        },
        "id": "WQTckEx-A9KV",
        "outputId": "a8449bae-6163-4853-bdcf-ecf4c1ade5d1"
      },
      "outputs": [
        {
          "name": "stdout",
          "output_type": "stream",
          "text": [
            "ResNet(\n",
            "  (conv1): Conv2d(3, 64, kernel_size=(7, 7), stride=(2, 2), padding=(3, 3), bias=False)\n",
            "  (bn1): BatchNorm2d(64, eps=1e-05, momentum=0.1, affine=True, track_running_stats=True)\n",
            "  (relu): ReLU(inplace=True)\n",
            "  (maxpool): MaxPool2d(kernel_size=3, stride=2, padding=1, dilation=1, ceil_mode=False)\n",
            "  (layer1): Sequential(\n",
            "    (0): BasicBlock(\n",
            "      (conv1): Conv2d(64, 64, kernel_size=(3, 3), stride=(1, 1), padding=(1, 1), bias=False)\n",
            "      (bn1): BatchNorm2d(64, eps=1e-05, momentum=0.1, affine=True, track_running_stats=True)\n",
            "      (relu): ReLU(inplace=True)\n",
            "      (conv2): Conv2d(64, 64, kernel_size=(3, 3), stride=(1, 1), padding=(1, 1), bias=False)\n",
            "      (bn2): BatchNorm2d(64, eps=1e-05, momentum=0.1, affine=True, track_running_stats=True)\n",
            "    )\n",
            "    (1): BasicBlock(\n",
            "      (conv1): Conv2d(64, 64, kernel_size=(3, 3), stride=(1, 1), padding=(1, 1), bias=False)\n",
            "      (bn1): BatchNorm2d(64, eps=1e-05, momentum=0.1, affine=True, track_running_stats=True)\n",
            "      (relu): ReLU(inplace=True)\n",
            "      (conv2): Conv2d(64, 64, kernel_size=(3, 3), stride=(1, 1), padding=(1, 1), bias=False)\n",
            "      (bn2): BatchNorm2d(64, eps=1e-05, momentum=0.1, affine=True, track_running_stats=True)\n",
            "    )\n",
            "  )\n",
            "  (layer2): Sequential(\n",
            "    (0): BasicBlock(\n",
            "      (conv1): Conv2d(64, 128, kernel_size=(3, 3), stride=(2, 2), padding=(1, 1), bias=False)\n",
            "      (bn1): BatchNorm2d(128, eps=1e-05, momentum=0.1, affine=True, track_running_stats=True)\n",
            "      (relu): ReLU(inplace=True)\n",
            "      (conv2): Conv2d(128, 128, kernel_size=(3, 3), stride=(1, 1), padding=(1, 1), bias=False)\n",
            "      (bn2): BatchNorm2d(128, eps=1e-05, momentum=0.1, affine=True, track_running_stats=True)\n",
            "      (downsample): Sequential(\n",
            "        (0): Conv2d(64, 128, kernel_size=(1, 1), stride=(2, 2), bias=False)\n",
            "        (1): BatchNorm2d(128, eps=1e-05, momentum=0.1, affine=True, track_running_stats=True)\n",
            "      )\n",
            "    )\n",
            "    (1): BasicBlock(\n",
            "      (conv1): Conv2d(128, 128, kernel_size=(3, 3), stride=(1, 1), padding=(1, 1), bias=False)\n",
            "      (bn1): BatchNorm2d(128, eps=1e-05, momentum=0.1, affine=True, track_running_stats=True)\n",
            "      (relu): ReLU(inplace=True)\n",
            "      (conv2): Conv2d(128, 128, kernel_size=(3, 3), stride=(1, 1), padding=(1, 1), bias=False)\n",
            "      (bn2): BatchNorm2d(128, eps=1e-05, momentum=0.1, affine=True, track_running_stats=True)\n",
            "    )\n",
            "  )\n",
            "  (layer3): Sequential(\n",
            "    (0): BasicBlock(\n",
            "      (conv1): Conv2d(128, 256, kernel_size=(3, 3), stride=(2, 2), padding=(1, 1), bias=False)\n",
            "      (bn1): BatchNorm2d(256, eps=1e-05, momentum=0.1, affine=True, track_running_stats=True)\n",
            "      (relu): ReLU(inplace=True)\n",
            "      (conv2): Conv2d(256, 256, kernel_size=(3, 3), stride=(1, 1), padding=(1, 1), bias=False)\n",
            "      (bn2): BatchNorm2d(256, eps=1e-05, momentum=0.1, affine=True, track_running_stats=True)\n",
            "      (downsample): Sequential(\n",
            "        (0): Conv2d(128, 256, kernel_size=(1, 1), stride=(2, 2), bias=False)\n",
            "        (1): BatchNorm2d(256, eps=1e-05, momentum=0.1, affine=True, track_running_stats=True)\n",
            "      )\n",
            "    )\n",
            "    (1): BasicBlock(\n",
            "      (conv1): Conv2d(256, 256, kernel_size=(3, 3), stride=(1, 1), padding=(1, 1), bias=False)\n",
            "      (bn1): BatchNorm2d(256, eps=1e-05, momentum=0.1, affine=True, track_running_stats=True)\n",
            "      (relu): ReLU(inplace=True)\n",
            "      (conv2): Conv2d(256, 256, kernel_size=(3, 3), stride=(1, 1), padding=(1, 1), bias=False)\n",
            "      (bn2): BatchNorm2d(256, eps=1e-05, momentum=0.1, affine=True, track_running_stats=True)\n",
            "    )\n",
            "  )\n",
            "  (layer4): Sequential(\n",
            "    (0): BasicBlock(\n",
            "      (conv1): Conv2d(256, 512, kernel_size=(3, 3), stride=(2, 2), padding=(1, 1), bias=False)\n",
            "      (bn1): BatchNorm2d(512, eps=1e-05, momentum=0.1, affine=True, track_running_stats=True)\n",
            "      (relu): ReLU(inplace=True)\n",
            "      (conv2): Conv2d(512, 512, kernel_size=(3, 3), stride=(1, 1), padding=(1, 1), bias=False)\n",
            "      (bn2): BatchNorm2d(512, eps=1e-05, momentum=0.1, affine=True, track_running_stats=True)\n",
            "      (downsample): Sequential(\n",
            "        (0): Conv2d(256, 512, kernel_size=(1, 1), stride=(2, 2), bias=False)\n",
            "        (1): BatchNorm2d(512, eps=1e-05, momentum=0.1, affine=True, track_running_stats=True)\n",
            "      )\n",
            "    )\n",
            "    (1): BasicBlock(\n",
            "      (conv1): Conv2d(512, 512, kernel_size=(3, 3), stride=(1, 1), padding=(1, 1), bias=False)\n",
            "      (bn1): BatchNorm2d(512, eps=1e-05, momentum=0.1, affine=True, track_running_stats=True)\n",
            "      (relu): ReLU(inplace=True)\n",
            "      (conv2): Conv2d(512, 512, kernel_size=(3, 3), stride=(1, 1), padding=(1, 1), bias=False)\n",
            "      (bn2): BatchNorm2d(512, eps=1e-05, momentum=0.1, affine=True, track_running_stats=True)\n",
            "    )\n",
            "  )\n",
            "  (avgpool): AdaptiveAvgPool2d(output_size=(1, 1))\n",
            "  (fc): Linear(in_features=512, out_features=1000, bias=True)\n",
            ")\n"
          ]
        }
      ],
      "source": [
        "print(model_resnet_0)"
      ]
    },
    {
      "cell_type": "code",
      "execution_count": null,
      "metadata": {
        "id": "eEtor1uDJmcW"
      },
      "outputs": [],
      "source": [
        "model_resnet_0.fc = nn.Linear(in_features=512, out_features=2).to(dev)"
      ]
    },
    {
      "cell_type": "code",
      "execution_count": null,
      "metadata": {
        "colab": {
          "base_uri": "https://localhost:8080/"
        },
        "id": "6ISTEzN71Msj",
        "outputId": "ab70c35d-0cbf-4ec3-ac34-ce9bedb86acf"
      },
      "outputs": [
        {
          "name": "stdout",
          "output_type": "stream",
          "text": [
            "epoch 1, loss 0.6919, train acc 0.586, test acc 0.464, time 5.9 sec\n",
            "epoch 2, loss 0.7100, train acc 0.574, test acc 0.556, time 5.5 sec\n",
            "epoch 3, loss 0.6044, train acc 0.684, test acc 0.647, time 5.5 sec\n",
            "epoch 4, loss 0.5670, train acc 0.734, test acc 0.654, time 5.5 sec\n",
            "epoch 5, loss 0.5402, train acc 0.693, test acc 0.680, time 5.5 sec\n"
          ]
        }
      ],
      "source": [
        "lr, num_epochs = 0.0001, 5\n",
        "trainer = torch.optim.Adam(model_resnet_0.parameters(), lr=lr)\n",
        "train(model_resnet_0, dataloaders['train'], dataloaders['val'], \n",
        "      trainer, num_epochs, dev)"
      ]
    },
    {
      "cell_type": "code",
      "execution_count": null,
      "metadata": {
        "id": "qDiOZdW11hR2"
      },
      "outputs": [],
      "source": [
        "torch.cuda.empty_cache()"
      ]
    },
    {
      "cell_type": "markdown",
      "metadata": {
        "id": "ycquws2aD3lP"
      },
      "source": [
        "VGG16 с нуля"
      ]
    },
    {
      "cell_type": "code",
      "execution_count": null,
      "metadata": {
        "id": "L8xN4YUG1hX_"
      },
      "outputs": [],
      "source": [
        "model_vgg_0 = models.vgg16()"
      ]
    },
    {
      "cell_type": "code",
      "execution_count": null,
      "metadata": {
        "id": "X0MjwwVA1ham"
      },
      "outputs": [],
      "source": [
        "model_vgg_0 = model_vgg_0.to(dev)"
      ]
    },
    {
      "cell_type": "code",
      "execution_count": null,
      "metadata": {
        "colab": {
          "base_uri": "https://localhost:8080/"
        },
        "id": "sF6P0chHKaNx",
        "outputId": "edfcdacb-9761-454c-a64b-af7b24ffe797"
      },
      "outputs": [
        {
          "name": "stdout",
          "output_type": "stream",
          "text": [
            "VGG(\n",
            "  (features): Sequential(\n",
            "    (0): Conv2d(3, 64, kernel_size=(3, 3), stride=(1, 1), padding=(1, 1))\n",
            "    (1): ReLU(inplace=True)\n",
            "    (2): Conv2d(64, 64, kernel_size=(3, 3), stride=(1, 1), padding=(1, 1))\n",
            "    (3): ReLU(inplace=True)\n",
            "    (4): MaxPool2d(kernel_size=2, stride=2, padding=0, dilation=1, ceil_mode=False)\n",
            "    (5): Conv2d(64, 128, kernel_size=(3, 3), stride=(1, 1), padding=(1, 1))\n",
            "    (6): ReLU(inplace=True)\n",
            "    (7): Conv2d(128, 128, kernel_size=(3, 3), stride=(1, 1), padding=(1, 1))\n",
            "    (8): ReLU(inplace=True)\n",
            "    (9): MaxPool2d(kernel_size=2, stride=2, padding=0, dilation=1, ceil_mode=False)\n",
            "    (10): Conv2d(128, 256, kernel_size=(3, 3), stride=(1, 1), padding=(1, 1))\n",
            "    (11): ReLU(inplace=True)\n",
            "    (12): Conv2d(256, 256, kernel_size=(3, 3), stride=(1, 1), padding=(1, 1))\n",
            "    (13): ReLU(inplace=True)\n",
            "    (14): Conv2d(256, 256, kernel_size=(3, 3), stride=(1, 1), padding=(1, 1))\n",
            "    (15): ReLU(inplace=True)\n",
            "    (16): MaxPool2d(kernel_size=2, stride=2, padding=0, dilation=1, ceil_mode=False)\n",
            "    (17): Conv2d(256, 512, kernel_size=(3, 3), stride=(1, 1), padding=(1, 1))\n",
            "    (18): ReLU(inplace=True)\n",
            "    (19): Conv2d(512, 512, kernel_size=(3, 3), stride=(1, 1), padding=(1, 1))\n",
            "    (20): ReLU(inplace=True)\n",
            "    (21): Conv2d(512, 512, kernel_size=(3, 3), stride=(1, 1), padding=(1, 1))\n",
            "    (22): ReLU(inplace=True)\n",
            "    (23): MaxPool2d(kernel_size=2, stride=2, padding=0, dilation=1, ceil_mode=False)\n",
            "    (24): Conv2d(512, 512, kernel_size=(3, 3), stride=(1, 1), padding=(1, 1))\n",
            "    (25): ReLU(inplace=True)\n",
            "    (26): Conv2d(512, 512, kernel_size=(3, 3), stride=(1, 1), padding=(1, 1))\n",
            "    (27): ReLU(inplace=True)\n",
            "    (28): Conv2d(512, 512, kernel_size=(3, 3), stride=(1, 1), padding=(1, 1))\n",
            "    (29): ReLU(inplace=True)\n",
            "    (30): MaxPool2d(kernel_size=2, stride=2, padding=0, dilation=1, ceil_mode=False)\n",
            "  )\n",
            "  (avgpool): AdaptiveAvgPool2d(output_size=(7, 7))\n",
            "  (classifier): Sequential(\n",
            "    (0): Linear(in_features=25088, out_features=4096, bias=True)\n",
            "    (1): ReLU(inplace=True)\n",
            "    (2): Dropout(p=0.5, inplace=False)\n",
            "    (3): Linear(in_features=4096, out_features=4096, bias=True)\n",
            "    (4): ReLU(inplace=True)\n",
            "    (5): Dropout(p=0.5, inplace=False)\n",
            "    (6): Linear(in_features=4096, out_features=1000, bias=True)\n",
            "  )\n",
            ")\n"
          ]
        }
      ],
      "source": [
        "print(model_vgg_0)"
      ]
    },
    {
      "cell_type": "code",
      "execution_count": null,
      "metadata": {
        "id": "gUZaG_UKKm1D"
      },
      "outputs": [],
      "source": [
        "model_vgg_0.classifier._modules['6'] = nn.Linear(4096, 2).to(dev)"
      ]
    },
    {
      "cell_type": "code",
      "execution_count": null,
      "metadata": {
        "colab": {
          "base_uri": "https://localhost:8080/"
        },
        "id": "BaZ1awsM1heB",
        "outputId": "53befb89-7830-4f11-89ca-db30cbdf857e"
      },
      "outputs": [
        {
          "name": "stdout",
          "output_type": "stream",
          "text": [
            "epoch 1, loss 0.7036, train acc 0.426, test acc 0.451, time 14.1 sec\n",
            "epoch 2, loss 0.6924, train acc 0.516, test acc 0.523, time 14.0 sec\n",
            "epoch 3, loss 0.6899, train acc 0.627, test acc 0.542, time 14.1 sec\n",
            "epoch 4, loss 0.6874, train acc 0.619, test acc 0.542, time 14.0 sec\n",
            "epoch 5, loss 0.6856, train acc 0.611, test acc 0.542, time 14.0 sec\n",
            "epoch 6, loss 0.6829, train acc 0.668, test acc 0.569, time 14.1 sec\n"
          ]
        }
      ],
      "source": [
        "lr, num_epochs = 0.000001, 6\n",
        "trainer = torch.optim.Adam(model_vgg_0.parameters(), lr=lr)\n",
        "train(model_vgg_0, dataloaders['train'], dataloaders['val'], \n",
        "      trainer, num_epochs, dev)"
      ]
    },
    {
      "cell_type": "markdown",
      "metadata": {
        "id": "22X4LvTGcu9M"
      },
      "source": [
        "Resnet18 - pretrained model"
      ]
    },
    {
      "cell_type": "code",
      "execution_count": null,
      "metadata": {
        "id": "e2kVVS9EF-v9"
      },
      "outputs": [],
      "source": [
        "model_resnet_pt = models.resnet18(pretrained=True).to(dev)"
      ]
    },
    {
      "cell_type": "code",
      "execution_count": null,
      "metadata": {
        "id": "292vGz5yF-v_"
      },
      "outputs": [],
      "source": [
        "for param in model_resnet_pt.parameters():\n",
        "    param.requires_grad = False"
      ]
    },
    {
      "cell_type": "code",
      "execution_count": null,
      "metadata": {
        "id": "x6bl37-HF-wA"
      },
      "outputs": [],
      "source": [
        "model_resnet_pt.fc = nn.Linear(in_features=512, out_features=2).to(dev)"
      ]
    },
    {
      "cell_type": "code",
      "execution_count": null,
      "metadata": {
        "colab": {
          "base_uri": "https://localhost:8080/"
        },
        "id": "Zpqq7SOVF-wA",
        "outputId": "4c3125bf-d5eb-46a2-eb78-4d2440bb078a"
      },
      "outputs": [
        {
          "name": "stdout",
          "output_type": "stream",
          "text": [
            "epoch 1, loss 0.6782, train acc 0.594, test acc 0.712, time 5.0 sec\n",
            "epoch 2, loss 0.5330, train acc 0.787, test acc 0.843, time 4.9 sec\n",
            "epoch 3, loss 0.4310, train acc 0.877, test acc 0.876, time 5.0 sec\n",
            "epoch 4, loss 0.3595, train acc 0.910, test acc 0.895, time 5.0 sec\n",
            "epoch 5, loss 0.3096, train acc 0.930, test acc 0.908, time 5.0 sec\n",
            "epoch 6, loss 0.2760, train acc 0.934, test acc 0.922, time 5.0 sec\n",
            "epoch 7, loss 0.2463, train acc 0.939, test acc 0.915, time 5.0 sec\n",
            "epoch 8, loss 0.2239, train acc 0.947, test acc 0.935, time 5.0 sec\n",
            "epoch 9, loss 0.2065, train acc 0.947, test acc 0.941, time 5.0 sec\n",
            "epoch 10, loss 0.1909, train acc 0.951, test acc 0.948, time 4.9 sec\n"
          ]
        }
      ],
      "source": [
        "lr, num_epochs = 0.00035, 10\n",
        "trainer = torch.optim.Adam(model_resnet_pt.parameters(), lr=lr)\n",
        "train(model_resnet_pt, dataloaders['train'], dataloaders['val'], \n",
        "      trainer, num_epochs, dev)"
      ]
    },
    {
      "cell_type": "markdown",
      "metadata": {
        "id": "ZnoU6yyWdJPP"
      },
      "source": [
        "VGG16 - pretrained model"
      ]
    },
    {
      "cell_type": "code",
      "execution_count": null,
      "metadata": {
        "id": "yGkAWYdH3d8f"
      },
      "outputs": [],
      "source": [
        "model_vgg_pt = models.vgg16(pretrained=True).to(dev)"
      ]
    },
    {
      "cell_type": "code",
      "execution_count": null,
      "metadata": {
        "id": "NgkCu25S3d_N"
      },
      "outputs": [],
      "source": [
        "## Убираем требование градиента:\n",
        "for param in model_vgg_pt.parameters():\n",
        "    param.requires_grad = False"
      ]
    },
    {
      "cell_type": "code",
      "execution_count": null,
      "metadata": {
        "colab": {
          "base_uri": "https://localhost:8080/"
        },
        "id": "kDCKLFUu3eDP",
        "outputId": "69e2ddda-7986-4eff-d6c7-569a80bbfd3d"
      },
      "outputs": [
        {
          "data": {
            "text/plain": [
              "Sequential(\n",
              "  (0): Linear(in_features=25088, out_features=4096, bias=True)\n",
              "  (1): ReLU(inplace=True)\n",
              "  (2): Dropout(p=0.5, inplace=False)\n",
              "  (3): Linear(in_features=4096, out_features=4096, bias=True)\n",
              "  (4): ReLU(inplace=True)\n",
              "  (5): Dropout(p=0.5, inplace=False)\n",
              "  (6): Linear(in_features=4096, out_features=1000, bias=True)\n",
              ")"
            ]
          },
          "execution_count": 202,
          "metadata": {},
          "output_type": "execute_result"
        }
      ],
      "source": [
        "model_vgg_pt.classifier"
      ]
    },
    {
      "cell_type": "code",
      "execution_count": null,
      "metadata": {
        "id": "CuQCNmOE4i_I"
      },
      "outputs": [],
      "source": [
        "model_vgg_pt.classifier[6] = nn.Linear(in_features=4096, out_features=2).to(dev)"
      ]
    },
    {
      "cell_type": "code",
      "execution_count": null,
      "metadata": {
        "colab": {
          "base_uri": "https://localhost:8080/"
        },
        "id": "PAUUeqp54jFM",
        "outputId": "337555b3-6931-4e29-81f6-db1a346abf98"
      },
      "outputs": [
        {
          "name": "stdout",
          "output_type": "stream",
          "text": [
            "epoch 1, loss 0.7375, train acc 0.512, test acc 0.614, time 8.1 sec\n",
            "epoch 2, loss 0.5885, train acc 0.717, test acc 0.824, time 8.1 sec\n",
            "epoch 3, loss 0.4970, train acc 0.840, test acc 0.915, time 8.0 sec\n",
            "epoch 4, loss 0.4256, train acc 0.893, test acc 0.928, time 7.9 sec\n",
            "epoch 5, loss 0.3706, train acc 0.930, test acc 0.941, time 8.0 sec\n",
            "epoch 6, loss 0.3291, train acc 0.939, test acc 0.948, time 8.1 sec\n",
            "epoch 7, loss 0.2963, train acc 0.943, test acc 0.948, time 8.0 sec\n",
            "epoch 8, loss 0.2709, train acc 0.947, test acc 0.954, time 8.0 sec\n"
          ]
        }
      ],
      "source": [
        "lr, num_epochs = 0.00004, 8\n",
        "trainer = torch.optim.Adam(model_vgg_pt.parameters(), lr=lr)\n",
        "train(model_vgg_pt, dataloaders['train'], dataloaders['val'],\n",
        "      trainer, num_epochs, dev)"
      ]
    },
    {
      "cell_type": "markdown",
      "metadata": {
        "id": "3RGuCLpYGqvD"
      },
      "source": [
        "Augmentation"
      ]
    },
    {
      "cell_type": "code",
      "execution_count": null,
      "metadata": {
        "id": "xpHbgr5BGrLh"
      },
      "outputs": [],
      "source": [
        "data_transforms_aug = {\n",
        "    'train':tv.transforms.Compose(  [\n",
        "            tv.transforms.RandomHorizontalFlip(),\n",
        "            tv.transforms.RandomVerticalFlip(),\n",
        "            tv.transforms.RandomResizedCrop(\n",
        "                    (224, 224), scale=(0.8, 1), ratio=(0.8, 1.2)),\n",
        "            tv.transforms.CenterCrop(224),\n",
        "            tv.transforms.ToTensor(),\n",
        "            tv.transforms.Normalize([0.485, 0.456, 0.406], [0.229, 0.224, 0.225])\n",
        "                                    ]),\n",
        "    'val': tv.transforms.Compose(   [\n",
        "            tv.transforms.Resize(256),\n",
        "            tv.transforms.CenterCrop(224),\n",
        "            tv.transforms.ToTensor(),\n",
        "            tv.transforms.Normalize([0.485, 0.456, 0.406], [0.229, 0.224, 0.225])\n",
        "                                    ]),\n",
        "                    }\n",
        "\n",
        "image_datasets_aug = {x: tv.datasets.ImageFolder(os.path.join(data_dir, x),\n",
        "                                                 data_transforms_aug[x])\n",
        "                  for x in ['train', 'val']}\n",
        "\n",
        "\n",
        "dataloaders_aug    = {x: torch.utils.data.DataLoader(image_datasets_aug[x], \n",
        "                                                    batch_size=18, \n",
        "                                                    shuffle=True\n",
        "                                                    )\n",
        "                  for x in ['train', 'val']}"
      ]
    },
    {
      "cell_type": "markdown",
      "metadata": {
        "id": "h9FFjTN_oBun"
      },
      "source": [
        "Resnet18 - pretrained model + aug"
      ]
    },
    {
      "cell_type": "code",
      "execution_count": null,
      "metadata": {
        "id": "pvBG_brklse5"
      },
      "outputs": [],
      "source": [
        "model_resnet_pt_aug = models.resnet18(pretrained=True).to(dev)"
      ]
    },
    {
      "cell_type": "code",
      "execution_count": null,
      "metadata": {
        "id": "veztK2fyl6fN"
      },
      "outputs": [],
      "source": [
        "for param in model_resnet_pt_aug.parameters():\n",
        "    param.requires_grad = False"
      ]
    },
    {
      "cell_type": "code",
      "execution_count": null,
      "metadata": {
        "id": "aSWr4dcHl6fP"
      },
      "outputs": [],
      "source": [
        "model_resnet_pt_aug.fc = nn.Linear(in_features=512, out_features=2).to(dev)"
      ]
    },
    {
      "cell_type": "code",
      "execution_count": null,
      "metadata": {
        "colab": {
          "base_uri": "https://localhost:8080/"
        },
        "id": "9P5fJCpQl6fP",
        "outputId": "e78675f6-f613-484f-cd51-62a1621ebeab"
      },
      "outputs": [
        {
          "name": "stdout",
          "output_type": "stream",
          "text": [
            "epoch 1, loss 0.7471, train acc 0.500, test acc 0.588, time 5.1 sec\n",
            "epoch 2, loss 0.6271, train acc 0.607, test acc 0.699, time 5.0 sec\n",
            "epoch 3, loss 0.5529, train acc 0.705, test acc 0.771, time 5.0 sec\n",
            "epoch 4, loss 0.4996, train acc 0.799, test acc 0.850, time 5.0 sec\n",
            "epoch 5, loss 0.4456, train acc 0.844, test acc 0.876, time 5.0 sec\n",
            "epoch 6, loss 0.4007, train acc 0.881, test acc 0.915, time 4.9 sec\n",
            "epoch 7, loss 0.3690, train acc 0.902, test acc 0.915, time 4.9 sec\n",
            "epoch 8, loss 0.3453, train acc 0.906, test acc 0.928, time 4.9 sec\n",
            "epoch 9, loss 0.3196, train acc 0.930, test acc 0.935, time 4.9 sec\n",
            "epoch 10, loss 0.3013, train acc 0.943, test acc 0.941, time 5.0 sec\n",
            "epoch 11, loss 0.2737, train acc 0.959, test acc 0.948, time 4.9 sec\n",
            "epoch 12, loss 0.2687, train acc 0.947, test acc 0.948, time 4.9 sec\n",
            "epoch 13, loss 0.2602, train acc 0.934, test acc 0.948, time 4.9 sec\n",
            "epoch 14, loss 0.2465, train acc 0.963, test acc 0.954, time 4.8 sec\n",
            "epoch 15, loss 0.2334, train acc 0.951, test acc 0.954, time 4.8 sec\n"
          ]
        }
      ],
      "source": [
        "lr, num_epochs = 0.0002, 15\n",
        "trainer = torch.optim.Adam(model_resnet_pt_aug.parameters(), lr=lr)\n",
        "train(model_resnet_pt_aug, \n",
        "      dataloaders_aug['train'], dataloaders_aug['val'], \n",
        "      trainer, num_epochs, dev)"
      ]
    },
    {
      "cell_type": "markdown",
      "metadata": {
        "id": "iA6AOa9XobRQ"
      },
      "source": [
        "VGG16 - pretrained model + aug"
      ]
    },
    {
      "cell_type": "code",
      "execution_count": null,
      "metadata": {
        "id": "hlmz3YFipR1D"
      },
      "outputs": [],
      "source": [
        "model_vgg_pt_aug = models.vgg16(pretrained=True).to(dev)"
      ]
    },
    {
      "cell_type": "code",
      "execution_count": null,
      "metadata": {
        "id": "Wi2n60FrpR1X"
      },
      "outputs": [],
      "source": [
        "for param in model_vgg_pt_aug.parameters():\n",
        "    param.requires_grad = False"
      ]
    },
    {
      "cell_type": "code",
      "execution_count": null,
      "metadata": {
        "id": "gpLACyG8pR1Y"
      },
      "outputs": [],
      "source": [
        "model_vgg_pt_aug.classifier[6] = nn.Linear(in_features=4096, out_features=2).to(dev)"
      ]
    },
    {
      "cell_type": "code",
      "execution_count": null,
      "metadata": {
        "colab": {
          "base_uri": "https://localhost:8080/"
        },
        "id": "C-ueBgvBpR1Y",
        "outputId": "8f0a28a2-fc3e-4a3e-d455-d5e04ae360b2"
      },
      "outputs": [
        {
          "name": "stdout",
          "output_type": "stream",
          "text": [
            "epoch 1, loss 0.7860, train acc 0.488, test acc 0.634, time 7.9 sec\n",
            "epoch 2, loss 0.6789, train acc 0.619, test acc 0.647, time 7.8 sec\n",
            "epoch 3, loss 0.6631, train acc 0.611, test acc 0.693, time 7.8 sec\n",
            "epoch 4, loss 0.6331, train acc 0.631, test acc 0.725, time 7.8 sec\n",
            "epoch 5, loss 0.6023, train acc 0.680, test acc 0.752, time 7.8 sec\n",
            "epoch 6, loss 0.5841, train acc 0.705, test acc 0.778, time 7.8 sec\n",
            "epoch 7, loss 0.5532, train acc 0.787, test acc 0.797, time 7.8 sec\n",
            "epoch 8, loss 0.5356, train acc 0.762, test acc 0.830, time 7.8 sec\n",
            "epoch 9, loss 0.5151, train acc 0.787, test acc 0.869, time 7.9 sec\n",
            "epoch 10, loss 0.4892, train acc 0.836, test acc 0.889, time 7.8 sec\n",
            "epoch 11, loss 0.4771, train acc 0.865, test acc 0.902, time 7.8 sec\n",
            "epoch 12, loss 0.4568, train acc 0.881, test acc 0.922, time 7.8 sec\n",
            "epoch 13, loss 0.4312, train acc 0.877, test acc 0.922, time 7.8 sec\n",
            "epoch 14, loss 0.4282, train acc 0.898, test acc 0.928, time 7.8 sec\n",
            "epoch 15, loss 0.4122, train acc 0.889, test acc 0.935, time 7.8 sec\n"
          ]
        }
      ],
      "source": [
        "lr, num_epochs = 0.00001, 15\n",
        "trainer = torch.optim.Adam(model_vgg_pt_aug.parameters(), lr=lr)\n",
        "train(model_vgg_pt_aug, \n",
        "      dataloaders_aug['train'], dataloaders_aug['val'],\n",
        "      trainer, num_epochs, dev)"
      ]
    },
    {
      "cell_type": "markdown",
      "metadata": {
        "id": "bsLah9borSlb"
      },
      "source": [
        "FineTuning ResNet 18 для FashionMnist."
      ]
    },
    {
      "cell_type": "code",
      "execution_count": 4,
      "metadata": {
        "id": "gN8Hl_aGy-iY"
      },
      "outputs": [],
      "source": [
        "from torchvision.datasets import FashionMNIST"
      ]
    },
    {
      "cell_type": "code",
      "execution_count": 25,
      "metadata": {
        "id": "xQt-mLtzwaff"
      },
      "outputs": [],
      "source": [
        "BATCH_SIZE = 64\n",
        "\n",
        "data_transforms = {\n",
        "    'train': transforms.Compose([\n",
        "        transforms.RandomHorizontalFlip(),\n",
        "        transforms.Grayscale(3), \n",
        "        transforms.ToTensor(), \n",
        "        transforms.Normalize([0.5, 0.5, 0.5], [0.5, 0.5, 0.5])\n",
        "    ]),\n",
        "    'test': transforms.Compose([\n",
        "        transforms.Grayscale(3),\n",
        "        transforms.ToTensor(), \n",
        "        transforms.Normalize([0.5, 0.5, 0.5], [0.5, 0.5, 0.5])\n",
        "    ])\n",
        "}\n",
        "\n",
        "trainset = FashionMNIST(root='./data', train=True, \n",
        "                        download=True, transform=data_transforms['train'])\n",
        "\n",
        "train_iter = torch.utils.data.DataLoader(trainset, batch_size=BATCH_SIZE, \n",
        "                                          shuffle=True)\n",
        "\n",
        "testset = FashionMNIST(root='./data', train=False, \n",
        "                       download=True,transform=data_transforms['test'])\n",
        "\n",
        "test_iter = torch.utils.data.DataLoader(testset, batch_size=BATCH_SIZE, \n",
        "                                         shuffle=False)"
      ]
    },
    {
      "cell_type": "code",
      "execution_count": 26,
      "metadata": {
        "id": "JFqArjetsmBf"
      },
      "outputs": [],
      "source": [
        "model_fm_resnet_pt_aug = models.resnet18(pretrained=True)"
      ]
    },
    {
      "cell_type": "code",
      "execution_count": 27,
      "metadata": {
        "id": "5Yv8qqy6smBt"
      },
      "outputs": [],
      "source": [
        "for param in model_fm_resnet_pt_aug.parameters():\n",
        "    param.requires_grad = False"
      ]
    },
    {
      "cell_type": "code",
      "execution_count": null,
      "metadata": {
        "id": "ex55gMzu5zG4"
      },
      "outputs": [],
      "source": [
        "model_fm_resnet_pt_aug.fc = nn.Linear(in_features=512, out_features=2).to(dev)"
      ]
    },
    {
      "cell_type": "code",
      "execution_count": null,
      "metadata": {
        "id": "rJ9sFZCm5zLC"
      },
      "outputs": [],
      "source": [
        "lr, num_epochs = 0.0002, 15\n",
        "trainer = torch.optim.Adam(model_fm_resnet_pt_aug.parameters(), lr=lr)\n",
        "train(model_fm_resnet_pt_aug, \n",
        "      train_iter, test_iter, \n",
        "      trainer, num_epochs, dev)"
      ]
    },
    {
      "cell_type": "code",
      "execution_count": null,
      "metadata": {
        "id": "je5XfeII1G0k"
      },
      "outputs": [],
      "source": []
    }
  ],
  "metadata": {
    "accelerator": "GPU",
    "colab": {
      "collapsed_sections": [],
      "include_colab_link": true,
      "name": "DLL_HW__4__1.ipynb",
      "provenance": []
    },
    "kernelspec": {
      "display_name": "Python 3",
      "language": "python",
      "name": "python3"
    },
    "language_info": {
      "codemirror_mode": {
        "name": "ipython",
        "version": 3
      },
      "file_extension": ".py",
      "mimetype": "text/x-python",
      "name": "python",
      "nbconvert_exporter": "python",
      "pygments_lexer": "ipython3",
      "version": "3.7.1"
    }
  },
  "nbformat": 4,
  "nbformat_minor": 0
}
