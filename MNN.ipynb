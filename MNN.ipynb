{
  "cells": [
    {
      "cell_type": "markdown",
      "metadata": {
        "id": "2yFPFuwVVEPO"
      },
      "source": [
        "Многослойные нейронные сети\n",
        "\n",
        "Задание\n",
        "Постройте модель на основе полносвязных слоёв для классификации Fashion MNIST из библиотеки torchvision (datasets- https://pytorch.org/vision/stable/datasets.html).\n",
        "Получите качество на тестовой выборке не ниже 88%"
      ]
    },
    {
      "cell_type": "code",
      "execution_count": null,
      "metadata": {
        "id": "eIWbJIJvmTzl"
      },
      "outputs": [],
      "source": [
        "import torch\n",
        "from torchvision import datasets, transforms\n",
        "from torch import nn, optim"
      ]
    },
    {
      "cell_type": "code",
      "execution_count": null,
      "metadata": {
        "id": "n5VmsCFOVrP5"
      },
      "outputs": [],
      "source": [
        "import matplotlib.pyplot as plt\n",
        "%matplotlib inline"
      ]
    },
    {
      "cell_type": "code",
      "execution_count": null,
      "metadata": {
        "id": "_zIFQfVoWfVv"
      },
      "outputs": [],
      "source": [
        "import time"
      ]
    },
    {
      "cell_type": "code",
      "execution_count": null,
      "metadata": {
        "colab": {
          "base_uri": "https://localhost:8080/",
          "height": 539,
          "referenced_widgets": [
            "be5c40b690de40f582bbd781bcdf687f",
            "44246714cec34b52b316d1d3870c0104",
            "6995fa1851d64cf1bd0155d75093d81d",
            "c7204b7b311b4027b22487024e97a3fa",
            "41561b9eaa204a6dbeaf6e32495c20e2",
            "f9f4a042f31849ec8428c6145ae91c85",
            "13dee24b44ab4625adaf7ec76eeca675",
            "1514bd0844224a66a365a64964fd6dee",
            "59b90742471e4795980c78f8b96f2eaf",
            "289360551b6f45d98e2b7c40edb50071",
            "c7edc5b41f944e75af63c9e739fb4a84",
            "f608a2ece32e4e1abc63d87488fe632d",
            "0de7e128008145c9b9026fb8ec885912",
            "07e7ba5a9975448f9feeaf42c377b39e",
            "7da4383634074085a543c636e73a412a",
            "0b40a9733fff44ef9b815fb98ed32a28",
            "87602085d9474c84bdae52363007b013",
            "4316969a12734ed297f4415cd3b99e86",
            "cc252337e4c84a63ac1ac5ba921d5f7d",
            "207e49feb13246168846addef2a917ef",
            "f31f8e01e48244ffad6f27fcd8880920",
            "a843beb24b0b421c92c4791c72d4eb11",
            "89dc74e8eb234ce6a9894785029cc8fc",
            "00603d7a2de246e3be5009943b03b992",
            "a435dd106dda433f9a062857a5a251ed",
            "15951c054d204ef58878e2a181c75cbd",
            "5304c70b6f92405b8a1b6547a87d60b4",
            "6deefa8c34254ef2ae17bca59973c241",
            "7697e5f15910418891b93eb42df75d6f",
            "35b954b3b21d454c8df4813b8dd18c89",
            "777d81da8c4a41988cafa3ad42fb798c",
            "c3da87b30c62482fa684de4d617b59ae"
          ]
        },
        "id": "IVhLiAbtmcCH",
        "outputId": "1d9fa32e-68b9-4f13-9cbe-6d4753c5695e"
      },
      "outputs": [
        {
          "name": "stdout",
          "output_type": "stream",
          "text": [
            "Downloading http://fashion-mnist.s3-website.eu-central-1.amazonaws.com/train-images-idx3-ubyte.gz\n",
            "Downloading http://fashion-mnist.s3-website.eu-central-1.amazonaws.com/train-images-idx3-ubyte.gz to ./FashionMNIST/raw/train-images-idx3-ubyte.gz\n"
          ]
        },
        {
          "data": {
            "application/vnd.jupyter.widget-view+json": {
              "model_id": "be5c40b690de40f582bbd781bcdf687f",
              "version_major": 2,
              "version_minor": 0
            },
            "text/plain": [
              "HBox(children=(FloatProgress(value=0.0, max=26421880.0), HTML(value='')))"
            ]
          },
          "metadata": {
            "tags": []
          },
          "output_type": "display_data"
        },
        {
          "name": "stdout",
          "output_type": "stream",
          "text": [
            "\n",
            "Extracting ./FashionMNIST/raw/train-images-idx3-ubyte.gz to ./FashionMNIST/raw\n",
            "\n",
            "Downloading http://fashion-mnist.s3-website.eu-central-1.amazonaws.com/train-labels-idx1-ubyte.gz\n",
            "Downloading http://fashion-mnist.s3-website.eu-central-1.amazonaws.com/train-labels-idx1-ubyte.gz to ./FashionMNIST/raw/train-labels-idx1-ubyte.gz\n"
          ]
        },
        {
          "data": {
            "application/vnd.jupyter.widget-view+json": {
              "model_id": "59b90742471e4795980c78f8b96f2eaf",
              "version_major": 2,
              "version_minor": 0
            },
            "text/plain": [
              "HBox(children=(FloatProgress(value=0.0, max=29515.0), HTML(value='')))"
            ]
          },
          "metadata": {
            "tags": []
          },
          "output_type": "display_data"
        },
        {
          "name": "stdout",
          "output_type": "stream",
          "text": [
            "\n",
            "Extracting ./FashionMNIST/raw/train-labels-idx1-ubyte.gz to ./FashionMNIST/raw\n",
            "\n",
            "Downloading http://fashion-mnist.s3-website.eu-central-1.amazonaws.com/t10k-images-idx3-ubyte.gz\n",
            "Downloading http://fashion-mnist.s3-website.eu-central-1.amazonaws.com/t10k-images-idx3-ubyte.gz to ./FashionMNIST/raw/t10k-images-idx3-ubyte.gz\n"
          ]
        },
        {
          "data": {
            "application/vnd.jupyter.widget-view+json": {
              "model_id": "87602085d9474c84bdae52363007b013",
              "version_major": 2,
              "version_minor": 0
            },
            "text/plain": [
              "HBox(children=(FloatProgress(value=0.0, max=4422102.0), HTML(value='')))"
            ]
          },
          "metadata": {
            "tags": []
          },
          "output_type": "display_data"
        },
        {
          "name": "stdout",
          "output_type": "stream",
          "text": [
            "\n",
            "Extracting ./FashionMNIST/raw/t10k-images-idx3-ubyte.gz to ./FashionMNIST/raw\n",
            "\n",
            "Downloading http://fashion-mnist.s3-website.eu-central-1.amazonaws.com/t10k-labels-idx1-ubyte.gz\n",
            "Downloading http://fashion-mnist.s3-website.eu-central-1.amazonaws.com/t10k-labels-idx1-ubyte.gz to ./FashionMNIST/raw/t10k-labels-idx1-ubyte.gz\n"
          ]
        },
        {
          "data": {
            "application/vnd.jupyter.widget-view+json": {
              "model_id": "a435dd106dda433f9a062857a5a251ed",
              "version_major": 2,
              "version_minor": 0
            },
            "text/plain": [
              "HBox(children=(FloatProgress(value=0.0, max=5148.0), HTML(value='')))"
            ]
          },
          "metadata": {
            "tags": []
          },
          "output_type": "display_data"
        },
        {
          "name": "stdout",
          "output_type": "stream",
          "text": [
            "\n",
            "Extracting ./FashionMNIST/raw/t10k-labels-idx1-ubyte.gz to ./FashionMNIST/raw\n",
            "\n"
          ]
        },
        {
          "name": "stderr",
          "output_type": "stream",
          "text": [
            "/usr/local/lib/python3.7/dist-packages/torchvision/datasets/mnist.py:498: UserWarning: The given NumPy array is not writeable, and PyTorch does not support non-writeable tensors. This means you can write to the underlying (supposedly non-writeable) NumPy array using the tensor. You may want to copy the array to protect its data or make it writeable before converting it to a tensor. This type of warning will be suppressed for the rest of this program. (Triggered internally at  /pytorch/torch/csrc/utils/tensor_numpy.cpp:180.)\n",
            "  return torch.from_numpy(parsed.astype(m[2], copy=False)).view(*s)\n"
          ]
        }
      ],
      "source": [
        "BATCH_SIZE = 64\n",
        "\n",
        "transform = transforms.Compose([transforms.ToTensor(),\n",
        "                                transforms.Normalize([0.], [0.5])])\n",
        "\n",
        "train_dataset    = datasets.FashionMNIST('.', download = True, train = True, \n",
        "                                         transform = transform)\n",
        "test_dataset     = datasets.FashionMNIST('.', download = True, train = False, \n",
        "                                         transform = transform)\n",
        "\n",
        "train = torch.utils.data.DataLoader(train_dataset, \n",
        "                                    batch_size = BATCH_SIZE, shuffle = True)\n",
        "test  = torch.utils.data.DataLoader(test_dataset,  \n",
        "                                    batch_size = BATCH_SIZE, shuffle = False)"
      ]
    },
    {
      "cell_type": "code",
      "execution_count": null,
      "metadata": {
        "colab": {
          "base_uri": "https://localhost:8080/",
          "height": 282
        },
        "id": "xAnT8ZULVM3g",
        "outputId": "e5baa207-ec3c-4ffd-9940-542a2e450918"
      },
      "outputs": [
        {
          "data": {
            "text/plain": [
              "<matplotlib.image.AxesImage at 0x7f323054ef10>"
            ]
          },
          "execution_count": 5,
          "metadata": {
            "tags": []
          },
          "output_type": "execute_result"
        },
        {
          "data": {
            "image/png": "[encoded data removed]",
            "text/plain": [
              "<Figure size 432x288 with 1 Axes>"
            ]
          },
          "metadata": {
            "needs_background": "light",
            "tags": []
          },
          "output_type": "display_data"
        }
      ],
      "source": [
        "plt.imshow(train_dataset[111][0].numpy().reshape(28,28))"
      ]
    },
    {
      "cell_type": "code",
      "execution_count": null,
      "metadata": {
        "id": "Cvu6WdszVTyz"
      },
      "outputs": [],
      "source": []
    },
    {
      "cell_type": "code",
      "execution_count": null,
      "metadata": {
        "id": "vVqz1hvTmPaA"
      },
      "outputs": [],
      "source": [
        "def nn_proba(model):\n",
        "    for ep in range(num_epochs):\n",
        "        train_iters, train_passed  = 0, 0\n",
        "        train_loss, train_acc = 0., 0.\n",
        "        start=time.time()\n",
        "    \n",
        "        model.train()\n",
        "        for X, y in train:\n",
        "            trainer.zero_grad()\n",
        "            y_pred = model(X)\n",
        "            l = loss(y_pred, y)\n",
        "            l.backward()\n",
        "            trainer.step()\n",
        "            train_loss += l.item()\n",
        "            train_acc += (y_pred.argmax(dim=1) == y).sum().item()\n",
        "            train_iters += 1\n",
        "            train_passed += len(X)\n",
        "    \n",
        "        test_iters, test_passed  = 0, 0\n",
        "        test_loss, test_acc = 0., 0.\n",
        "        model.eval()\n",
        "        for X, y in test:\n",
        "            y_pred = model(X)\n",
        "            l = loss(y_pred, y)\n",
        "            test_loss += l.item()\n",
        "            test_acc += (y_pred.argmax(dim=1) == y).sum().item()\n",
        "            test_iters += 1\n",
        "            test_passed += len(X)\n",
        "        \n",
        "        print(\"ep: {}, taked: {:.3f}, train_loss: {:.3f}, train_acc: {:.3f}, test_loss: {:.3f}, test_acc: {:.3f}\".format(\n",
        "        ep, time.time() - start, train_loss / train_iters, train_acc / train_passed,\n",
        "        test_loss / test_iters, test_acc / test_passed)\n",
        "        )"
      ]
    },
    {
      "cell_type": "markdown",
      "metadata": {
        "id": "eCFWORZEYVTB"
      },
      "source": [
        "#### Решение № 1"
      ]
    },
    {
      "cell_type": "code",
      "execution_count": null,
      "metadata": {
        "colab": {
          "base_uri": "https://localhost:8080/"
        },
        "id": "s0kjdp7dLHmW",
        "outputId": "913c8356-fbad-44e5-ccdd-74103a8fcf00"
      },
      "outputs": [
        {
          "name": "stdout",
          "output_type": "stream",
          "text": [
            "ep: 0, taked: 17.608, train_loss: 0.500, train_acc: 0.818, test_loss: 0.401, test_acc: 0.851\n",
            "ep: 1, taked: 17.121, train_loss: 0.402, train_acc: 0.852, test_loss: 0.374, test_acc: 0.865\n",
            "ep: 2, taked: 17.203, train_loss: 0.370, train_acc: 0.865, test_loss: 0.357, test_acc: 0.870\n",
            "ep: 3, taked: 17.126, train_loss: 0.351, train_acc: 0.870, test_loss: 0.374, test_acc: 0.876\n",
            "ep: 4, taked: 16.815, train_loss: 0.340, train_acc: 0.875, test_loss: 0.337, test_acc: 0.877\n",
            "ep: 5, taked: 16.953, train_loss: 0.328, train_acc: 0.878, test_loss: 0.338, test_acc: 0.878\n",
            "ep: 6, taked: 16.692, train_loss: 0.320, train_acc: 0.882, test_loss: 0.423, test_acc: 0.875\n",
            "ep: 7, taked: 17.194, train_loss: 0.312, train_acc: 0.883, test_loss: 0.333, test_acc: 0.881\n",
            "ep: 8, taked: 17.073, train_loss: 0.298, train_acc: 0.889, test_loss: 0.335, test_acc: 0.885\n",
            "ep: 9, taked: 16.839, train_loss: 0.296, train_acc: 0.889, test_loss: 0.334, test_acc: 0.883\n",
            "ep: 10, taked: 16.936, train_loss: 0.287, train_acc: 0.893, test_loss: 0.349, test_acc: 0.883\n",
            "ep: 11, taked: 17.079, train_loss: 0.283, train_acc: 0.895, test_loss: 0.335, test_acc: 0.886\n",
            "ep: 12, taked: 18.176, train_loss: 0.279, train_acc: 0.894, test_loss: 0.340, test_acc: 0.886\n",
            "ep: 13, taked: 17.890, train_loss: 0.273, train_acc: 0.897, test_loss: 0.320, test_acc: 0.889\n",
            "ep: 14, taked: 18.381, train_loss: 0.270, train_acc: 0.899, test_loss: 0.335, test_acc: 0.892\n"
          ]
        }
      ],
      "source": [
        "m_61 = nn.Sequential(nn.Flatten(),\n",
        "                      nn.BatchNorm1d(784),\n",
        "                      nn.Linear(784, 128),\n",
        "                      nn.ReLU(),\n",
        "                      nn.Dropout(0.25),\n",
        "                      nn.BatchNorm1d(128),\n",
        "                      nn.Linear(128, 64),\n",
        "                      nn.ReLU(),\n",
        "                      nn.BatchNorm1d(64),\n",
        "                      nn.Linear(64, 10), \n",
        "                     )\n",
        "\n",
        "loss    = nn.CrossEntropyLoss()\n",
        "trainer = optim.Adam(m_61.parameters(), lr=0.004)\n",
        "num_epochs  = 15\n",
        "BATCH_SIZE  = 128\n",
        "nn_proba(m_61)"
      ]
    },
    {
      "cell_type": "markdown",
      "metadata": {
        "id": "N2aDJ_65Y7ko"
      },
      "source": [
        "#### Решение № 2"
      ]
    },
    {
      "cell_type": "code",
      "execution_count": null,
      "metadata": {
        "colab": {
          "base_uri": "https://localhost:8080/"
        },
        "id": "KSD6pflKmo_M",
        "outputId": "7fa5e43a-af84-4da4-9892-14a55ac93b5c"
      },
      "outputs": [
        {
          "name": "stdout",
          "output_type": "stream",
          "text": [
            "ep: 0, taked: 17.634, train_loss: 0.521, train_acc: 0.810, test_loss: 0.411, test_acc: 0.851\n",
            "ep: 1, taked: 17.702, train_loss: 0.426, train_acc: 0.845, test_loss: 0.381, test_acc: 0.862\n",
            "ep: 2, taked: 17.783, train_loss: 0.401, train_acc: 0.854, test_loss: 0.376, test_acc: 0.863\n",
            "ep: 3, taked: 17.736, train_loss: 0.380, train_acc: 0.860, test_loss: 0.359, test_acc: 0.865\n",
            "ep: 4, taked: 17.724, train_loss: 0.373, train_acc: 0.862, test_loss: 0.357, test_acc: 0.870\n",
            "ep: 5, taked: 17.698, train_loss: 0.360, train_acc: 0.869, test_loss: 0.350, test_acc: 0.866\n",
            "ep: 6, taked: 17.613, train_loss: 0.353, train_acc: 0.870, test_loss: 0.360, test_acc: 0.866\n",
            "ep: 7, taked: 17.558, train_loss: 0.347, train_acc: 0.872, test_loss: 0.355, test_acc: 0.869\n",
            "ep: 8, taked: 17.589, train_loss: 0.333, train_acc: 0.877, test_loss: 0.339, test_acc: 0.876\n",
            "ep: 9, taked: 17.443, train_loss: 0.331, train_acc: 0.877, test_loss: 0.339, test_acc: 0.878\n",
            "ep: 10, taked: 17.341, train_loss: 0.327, train_acc: 0.876, test_loss: 0.347, test_acc: 0.879\n",
            "ep: 11, taked: 17.433, train_loss: 0.322, train_acc: 0.880, test_loss: 0.359, test_acc: 0.881\n",
            "ep: 12, taked: 17.444, train_loss: 0.315, train_acc: 0.883, test_loss: 0.321, test_acc: 0.883\n",
            "ep: 13, taked: 17.414, train_loss: 0.312, train_acc: 0.883, test_loss: 0.336, test_acc: 0.883\n",
            "ep: 14, taked: 17.471, train_loss: 0.309, train_acc: 0.886, test_loss: 0.338, test_acc: 0.888\n",
            "ep: 15, taked: 17.387, train_loss: 0.303, train_acc: 0.887, test_loss: 0.318, test_acc: 0.884\n",
            "ep: 16, taked: 17.335, train_loss: 0.300, train_acc: 0.889, test_loss: 0.328, test_acc: 0.888\n",
            "ep: 17, taked: 17.302, train_loss: 0.295, train_acc: 0.891, test_loss: 0.369, test_acc: 0.885\n",
            "ep: 18, taked: 17.441, train_loss: 0.291, train_acc: 0.890, test_loss: 0.327, test_acc: 0.889\n",
            "ep: 19, taked: 17.420, train_loss: 0.290, train_acc: 0.891, test_loss: 0.375, test_acc: 0.891\n"
          ]
        }
      ],
      "source": [
        "m_71 = nn.Sequential(nn.Flatten(),\n",
        "                      nn.BatchNorm1d(784),\n",
        "                      nn.Linear(784, 256),\n",
        "                      nn.ReLU(),                      \n",
        "                      nn.BatchNorm1d(256),\n",
        "                      nn.Dropout(0.5),\n",
        "                      nn.Linear(256, 64),\n",
        "                      nn.ReLU(),                      \n",
        "                      nn.BatchNorm1d(64),\n",
        "                      nn.Linear(64, 10)\n",
        "                     )\n",
        "loss    = nn.CrossEntropyLoss()\n",
        "trainer = optim.Adam(m_71.parameters(), lr=0.01)\n",
        "num_epochs  = 20\n",
        "BATCH_SIZE  = 128\n",
        "nn_proba(m_71)"
      ]
    },
    {
      "cell_type": "markdown",
      "metadata": {
        "id": "tfyvAhW5eX4X"
      },
      "source": [
        "#### Решение № 3"
      ]
    },
    {
      "cell_type": "code",
      "execution_count": null,
      "metadata": {
        "colab": {
          "base_uri": "https://localhost:8080/"
        },
        "id": "iO9T_m6Rbm2g",
        "outputId": "2fcf0374-7825-4757-b6a6-a53a5b35bf72"
      },
      "outputs": [
        {
          "name": "stdout",
          "output_type": "stream",
          "text": [
            "ep: 0, taked: 24.203, train_loss: 0.668, train_acc: 0.769, test_loss: 0.463, test_acc: 0.835\n",
            "ep: 1, taked: 24.074, train_loss: 0.481, train_acc: 0.828, test_loss: 0.458, test_acc: 0.848\n",
            "ep: 2, taked: 24.161, train_loss: 0.445, train_acc: 0.840, test_loss: 0.420, test_acc: 0.852\n",
            "ep: 3, taked: 24.114, train_loss: 0.420, train_acc: 0.849, test_loss: 0.405, test_acc: 0.862\n",
            "ep: 4, taked: 24.127, train_loss: 0.406, train_acc: 0.853, test_loss: 0.413, test_acc: 0.862\n",
            "ep: 5, taked: 24.308, train_loss: 0.390, train_acc: 0.859, test_loss: 0.394, test_acc: 0.864\n",
            "ep: 6, taked: 24.129, train_loss: 0.377, train_acc: 0.863, test_loss: 0.385, test_acc: 0.868\n",
            "ep: 7, taked: 24.138, train_loss: 0.367, train_acc: 0.867, test_loss: 0.388, test_acc: 0.871\n",
            "ep: 8, taked: 24.080, train_loss: 0.356, train_acc: 0.872, test_loss: 0.381, test_acc: 0.872\n",
            "ep: 9, taked: 23.849, train_loss: 0.353, train_acc: 0.871, test_loss: 0.351, test_acc: 0.875\n",
            "ep: 10, taked: 24.004, train_loss: 0.343, train_acc: 0.875, test_loss: 0.376, test_acc: 0.876\n",
            "ep: 11, taked: 23.833, train_loss: 0.336, train_acc: 0.878, test_loss: 0.355, test_acc: 0.874\n",
            "ep: 12, taked: 23.902, train_loss: 0.333, train_acc: 0.878, test_loss: 0.363, test_acc: 0.878\n",
            "ep: 13, taked: 23.907, train_loss: 0.325, train_acc: 0.882, test_loss: 0.372, test_acc: 0.877\n",
            "ep: 14, taked: 23.916, train_loss: 0.320, train_acc: 0.882, test_loss: 0.342, test_acc: 0.879\n",
            "ep: 15, taked: 24.140, train_loss: 0.318, train_acc: 0.884, test_loss: 0.354, test_acc: 0.881\n",
            "ep: 16, taked: 23.983, train_loss: 0.310, train_acc: 0.885, test_loss: 0.330, test_acc: 0.884\n",
            "ep: 17, taked: 24.004, train_loss: 0.306, train_acc: 0.886, test_loss: 0.342, test_acc: 0.883\n",
            "ep: 18, taked: 24.040, train_loss: 0.301, train_acc: 0.888, test_loss: 0.342, test_acc: 0.883\n",
            "ep: 19, taked: 24.103, train_loss: 0.297, train_acc: 0.889, test_loss: 0.342, test_acc: 0.886\n"
          ]
        }
      ],
      "source": [
        "m_12 = nn.Sequential(nn.Flatten(),\n",
        "                      nn.BatchNorm1d(784),\n",
        "                      nn.Linear(784, 512),\n",
        "                      nn.ReLU(),                      \n",
        "                      nn.Dropout(0.5),\n",
        "                      nn.BatchNorm1d(512),\n",
        "                      nn.Linear(512, 512),\n",
        "                      nn.ReLU(),                      \n",
        "                      nn.Dropout(0.3),\n",
        "                      nn.BatchNorm1d(512),                      \n",
        "                      nn.Linear(512, 10)\n",
        "                     )\n",
        "loss    = nn.CrossEntropyLoss()\n",
        "trainer = optim.SGD(m_12.parameters(), lr=0.01)\n",
        "num_epochs  = 20\n",
        "BATCH_SIZE  = 128\n",
        "nn_proba(m_12)"
      ]
    }
  ],
  "metadata": {
    "colab": {
      "collapsed_sections": [],
      "name": "DLL_hw_2_2_.ipynb",
      "provenance": []
    },
    "kernelspec": {
      "display_name": "Python 3",
      "name": "python3"
    },
    "language_info": {
      "name": "python"
    },
    "widgets": {
      "application/vnd.jupyter.widget-state+json": {
        "00603d7a2de246e3be5009943b03b992": {
          "model_module": "@jupyter-widgets/base",
          "model_module_version": "1.2.0",
          "model_name": "LayoutModel",
          "state": {
            "_model_module": "@jupyter-widgets/base",
            "_model_module_version": "1.2.0",
            "_model_name": "LayoutModel",
            "_view_count": null,
            "_view_module": "@jupyter-widgets/base",
            "_view_module_version": "1.2.0",
            "_view_name": "LayoutView",
            "align_content": null,
            "align_items": null,
            "align_self": null,
            "border": null,
            "bottom": null,
            "display": null,
            "flex": null,
            "flex_flow": null,
            "grid_area": null,
            "grid_auto_columns": null,
            "grid_auto_flow": null,
            "grid_auto_rows": null,
            "grid_column": null,
            "grid_gap": null,
            "grid_row": null,
            "grid_template_areas": null,
            "grid_template_columns": null,
            "grid_template_rows": null,
            "height": null,
            "justify_content": null,
            "justify_items": null,
            "left": null,
            "margin": null,
            "max_height": null,
            "max_width": null,
            "min_height": null,
            "min_width": null,
            "object_fit": null,
            "object_position": null,
            "order": null,
            "overflow": null,
            "overflow_x": null,
            "overflow_y": null,
            "padding": null,
            "right": null,
            "top": null,
            "visibility": null,
            "width": null
          }
        },
        "07e7ba5a9975448f9feeaf42c377b39e": {
          "model_module": "@jupyter-widgets/base",
          "model_module_version": "1.2.0",
          "model_name": "LayoutModel",
          "state": {
            "_model_module": "@jupyter-widgets/base",
            "_model_module_version": "1.2.0",
            "_model_name": "LayoutModel",
            "_view_count": null,
            "_view_module": "@jupyter-widgets/base",
            "_view_module_version": "1.2.0",
            "_view_name": "LayoutView",
            "align_content": null,
            "align_items": null,
            "align_self": null,
            "border": null,
            "bottom": null,
            "display": null,
            "flex": null,
            "flex_flow": null,
            "grid_area": null,
            "grid_auto_columns": null,
            "grid_auto_flow": null,
            "grid_auto_rows": null,
            "grid_column": null,
            "grid_gap": null,
            "grid_row": null,
            "grid_template_areas": null,
            "grid_template_columns": null,
            "grid_template_rows": null,
            "height": null,
            "justify_content": null,
            "justify_items": null,
            "left": null,
            "margin": null,
            "max_height": null,
            "max_width": null,
            "min_height": null,
            "min_width": null,
            "object_fit": null,
            "object_position": null,
            "order": null,
            "overflow": null,
            "overflow_x": null,
            "overflow_y": null,
            "padding": null,
            "right": null,
            "top": null,
            "visibility": null,
            "width": null
          }
        },
        "0b40a9733fff44ef9b815fb98ed32a28": {
          "model_module": "@jupyter-widgets/base",
          "model_module_version": "1.2.0",
          "model_name": "LayoutModel",
          "state": {
            "_model_module": "@jupyter-widgets/base",
            "_model_module_version": "1.2.0",
            "_model_name": "LayoutModel",
            "_view_count": null,
            "_view_module": "@jupyter-widgets/base",
            "_view_module_version": "1.2.0",
            "_view_name": "LayoutView",
            "align_content": null,
            "align_items": null,
            "align_self": null,
            "border": null,
            "bottom": null,
            "display": null,
            "flex": null,
            "flex_flow": null,
            "grid_area": null,
            "grid_auto_columns": null,
            "grid_auto_flow": null,
            "grid_auto_rows": null,
            "grid_column": null,
            "grid_gap": null,
            "grid_row": null,
            "grid_template_areas": null,
            "grid_template_columns": null,
            "grid_template_rows": null,
            "height": null,
            "justify_content": null,
            "justify_items": null,
            "left": null,
            "margin": null,
            "max_height": null,
            "max_width": null,
            "min_height": null,
            "min_width": null,
            "object_fit": null,
            "object_position": null,
            "order": null,
            "overflow": null,
            "overflow_x": null,
            "overflow_y": null,
            "padding": null,
            "right": null,
            "top": null,
            "visibility": null,
            "width": null
          }
        },
        "0de7e128008145c9b9026fb8ec885912": {
          "model_module": "@jupyter-widgets/controls",
          "model_module_version": "1.5.0",
          "model_name": "ProgressStyleModel",
          "state": {
            "_model_module": "@jupyter-widgets/controls",
            "_model_module_version": "1.5.0",
            "_model_name": "ProgressStyleModel",
            "_view_count": null,
            "_view_module": "@jupyter-widgets/base",
            "_view_module_version": "1.2.0",
            "_view_name": "StyleView",
            "bar_color": null,
            "description_width": "initial"
          }
        },
        "13dee24b44ab4625adaf7ec76eeca675": {
          "model_module": "@jupyter-widgets/controls",
          "model_module_version": "1.5.0",
          "model_name": "DescriptionStyleModel",
          "state": {
            "_model_module": "@jupyter-widgets/controls",
            "_model_module_version": "1.5.0",
            "_model_name": "DescriptionStyleModel",
            "_view_count": null,
            "_view_module": "@jupyter-widgets/base",
            "_view_module_version": "1.2.0",
            "_view_name": "StyleView",
            "description_width": ""
          }
        },
        "1514bd0844224a66a365a64964fd6dee": {
          "model_module": "@jupyter-widgets/base",
          "model_module_version": "1.2.0",
          "model_name": "LayoutModel",
          "state": {
            "_model_module": "@jupyter-widgets/base",
            "_model_module_version": "1.2.0",
            "_model_name": "LayoutModel",
            "_view_count": null,
            "_view_module": "@jupyter-widgets/base",
            "_view_module_version": "1.2.0",
            "_view_name": "LayoutView",
            "align_content": null,
            "align_items": null,
            "align_self": null,
            "border": null,
            "bottom": null,
            "display": null,
            "flex": null,
            "flex_flow": null,
            "grid_area": null,
            "grid_auto_columns": null,
            "grid_auto_flow": null,
            "grid_auto_rows": null,
            "grid_column": null,
            "grid_gap": null,
            "grid_row": null,
            "grid_template_areas": null,
            "grid_template_columns": null,
            "grid_template_rows": null,
            "height": null,
            "justify_content": null,
            "justify_items": null,
            "left": null,
            "margin": null,
            "max_height": null,
            "max_width": null,
            "min_height": null,
            "min_width": null,
            "object_fit": null,
            "object_position": null,
            "order": null,
            "overflow": null,
            "overflow_x": null,
            "overflow_y": null,
            "padding": null,
            "right": null,
            "top": null,
            "visibility": null,
            "width": null
          }
        },
        "15951c054d204ef58878e2a181c75cbd": {
          "model_module": "@jupyter-widgets/base",
          "model_module_version": "1.2.0",
          "model_name": "LayoutModel",
          "state": {
            "_model_module": "@jupyter-widgets/base",
            "_model_module_version": "1.2.0",
            "_model_name": "LayoutModel",
            "_view_count": null,
            "_view_module": "@jupyter-widgets/base",
            "_view_module_version": "1.2.0",
            "_view_name": "LayoutView",
            "align_content": null,
            "align_items": null,
            "align_self": null,
            "border": null,
            "bottom": null,
            "display": null,
            "flex": null,
            "flex_flow": null,
            "grid_area": null,
            "grid_auto_columns": null,
            "grid_auto_flow": null,
            "grid_auto_rows": null,
            "grid_column": null,
            "grid_gap": null,
            "grid_row": null,
            "grid_template_areas": null,
            "grid_template_columns": null,
            "grid_template_rows": null,
            "height": null,
            "justify_content": null,
            "justify_items": null,
            "left": null,
            "margin": null,
            "max_height": null,
            "max_width": null,
            "min_height": null,
            "min_width": null,
            "object_fit": null,
            "object_position": null,
            "order": null,
            "overflow": null,
            "overflow_x": null,
            "overflow_y": null,
            "padding": null,
            "right": null,
            "top": null,
            "visibility": null,
            "width": null
          }
        },
        "207e49feb13246168846addef2a917ef": {
          "model_module": "@jupyter-widgets/controls",
          "model_module_version": "1.5.0",
          "model_name": "HTMLModel",
          "state": {
            "_dom_classes": [],
            "_model_module": "@jupyter-widgets/controls",
            "_model_module_version": "1.5.0",
            "_model_name": "HTMLModel",
            "_view_count": null,
            "_view_module": "@jupyter-widgets/controls",
            "_view_module_version": "1.5.0",
            "_view_name": "HTMLView",
            "description": "",
            "description_tooltip": null,
            "layout": "IPY_MODEL_00603d7a2de246e3be5009943b03b992",
            "placeholder": "​",
            "style": "IPY_MODEL_89dc74e8eb234ce6a9894785029cc8fc",
            "value": " 4422656/? [00:01&lt;00:00, 2284799.35it/s]"
          }
        },
        "289360551b6f45d98e2b7c40edb50071": {
          "model_module": "@jupyter-widgets/base",
          "model_module_version": "1.2.0",
          "model_name": "LayoutModel",
          "state": {
            "_model_module": "@jupyter-widgets/base",
            "_model_module_version": "1.2.0",
            "_model_name": "LayoutModel",
            "_view_count": null,
            "_view_module": "@jupyter-widgets/base",
            "_view_module_version": "1.2.0",
            "_view_name": "LayoutView",
            "align_content": null,
            "align_items": null,
            "align_self": null,
            "border": null,
            "bottom": null,
            "display": null,
            "flex": null,
            "flex_flow": null,
            "grid_area": null,
            "grid_auto_columns": null,
            "grid_auto_flow": null,
            "grid_auto_rows": null,
            "grid_column": null,
            "grid_gap": null,
            "grid_row": null,
            "grid_template_areas": null,
            "grid_template_columns": null,
            "grid_template_rows": null,
            "height": null,
            "justify_content": null,
            "justify_items": null,
            "left": null,
            "margin": null,
            "max_height": null,
            "max_width": null,
            "min_height": null,
            "min_width": null,
            "object_fit": null,
            "object_position": null,
            "order": null,
            "overflow": null,
            "overflow_x": null,
            "overflow_y": null,
            "padding": null,
            "right": null,
            "top": null,
            "visibility": null,
            "width": null
          }
        },
        "35b954b3b21d454c8df4813b8dd18c89": {
          "model_module": "@jupyter-widgets/base",
          "model_module_version": "1.2.0",
          "model_name": "LayoutModel",
          "state": {
            "_model_module": "@jupyter-widgets/base",
            "_model_module_version": "1.2.0",
            "_model_name": "LayoutModel",
            "_view_count": null,
            "_view_module": "@jupyter-widgets/base",
            "_view_module_version": "1.2.0",
            "_view_name": "LayoutView",
            "align_content": null,
            "align_items": null,
            "align_self": null,
            "border": null,
            "bottom": null,
            "display": null,
            "flex": null,
            "flex_flow": null,
            "grid_area": null,
            "grid_auto_columns": null,
            "grid_auto_flow": null,
            "grid_auto_rows": null,
            "grid_column": null,
            "grid_gap": null,
            "grid_row": null,
            "grid_template_areas": null,
            "grid_template_columns": null,
            "grid_template_rows": null,
            "height": null,
            "justify_content": null,
            "justify_items": null,
            "left": null,
            "margin": null,
            "max_height": null,
            "max_width": null,
            "min_height": null,
            "min_width": null,
            "object_fit": null,
            "object_position": null,
            "order": null,
            "overflow": null,
            "overflow_x": null,
            "overflow_y": null,
            "padding": null,
            "right": null,
            "top": null,
            "visibility": null,
            "width": null
          }
        },
        "41561b9eaa204a6dbeaf6e32495c20e2": {
          "model_module": "@jupyter-widgets/controls",
          "model_module_version": "1.5.0",
          "model_name": "ProgressStyleModel",
          "state": {
            "_model_module": "@jupyter-widgets/controls",
            "_model_module_version": "1.5.0",
            "_model_name": "ProgressStyleModel",
            "_view_count": null,
            "_view_module": "@jupyter-widgets/base",
            "_view_module_version": "1.2.0",
            "_view_name": "StyleView",
            "bar_color": null,
            "description_width": "initial"
          }
        },
        "4316969a12734ed297f4415cd3b99e86": {
          "model_module": "@jupyter-widgets/base",
          "model_module_version": "1.2.0",
          "model_name": "LayoutModel",
          "state": {
            "_model_module": "@jupyter-widgets/base",
            "_model_module_version": "1.2.0",
            "_model_name": "LayoutModel",
            "_view_count": null,
            "_view_module": "@jupyter-widgets/base",
            "_view_module_version": "1.2.0",
            "_view_name": "LayoutView",
            "align_content": null,
            "align_items": null,
            "align_self": null,
            "border": null,
            "bottom": null,
            "display": null,
            "flex": null,
            "flex_flow": null,
            "grid_area": null,
            "grid_auto_columns": null,
            "grid_auto_flow": null,
            "grid_auto_rows": null,
            "grid_column": null,
            "grid_gap": null,
            "grid_row": null,
            "grid_template_areas": null,
            "grid_template_columns": null,
            "grid_template_rows": null,
            "height": null,
            "justify_content": null,
            "justify_items": null,
            "left": null,
            "margin": null,
            "max_height": null,
            "max_width": null,
            "min_height": null,
            "min_width": null,
            "object_fit": null,
            "object_position": null,
            "order": null,
            "overflow": null,
            "overflow_x": null,
            "overflow_y": null,
            "padding": null,
            "right": null,
            "top": null,
            "visibility": null,
            "width": null
          }
        },
        "44246714cec34b52b316d1d3870c0104": {
          "model_module": "@jupyter-widgets/base",
          "model_module_version": "1.2.0",
          "model_name": "LayoutModel",
          "state": {
            "_model_module": "@jupyter-widgets/base",
            "_model_module_version": "1.2.0",
            "_model_name": "LayoutModel",
            "_view_count": null,
            "_view_module": "@jupyter-widgets/base",
            "_view_module_version": "1.2.0",
            "_view_name": "LayoutView",
            "align_content": null,
            "align_items": null,
            "align_self": null,
            "border": null,
            "bottom": null,
            "display": null,
            "flex": null,
            "flex_flow": null,
            "grid_area": null,
            "grid_auto_columns": null,
            "grid_auto_flow": null,
            "grid_auto_rows": null,
            "grid_column": null,
            "grid_gap": null,
            "grid_row": null,
            "grid_template_areas": null,
            "grid_template_columns": null,
            "grid_template_rows": null,
            "height": null,
            "justify_content": null,
            "justify_items": null,
            "left": null,
            "margin": null,
            "max_height": null,
            "max_width": null,
            "min_height": null,
            "min_width": null,
            "object_fit": null,
            "object_position": null,
            "order": null,
            "overflow": null,
            "overflow_x": null,
            "overflow_y": null,
            "padding": null,
            "right": null,
            "top": null,
            "visibility": null,
            "width": null
          }
        },
        "5304c70b6f92405b8a1b6547a87d60b4": {
          "model_module": "@jupyter-widgets/controls",
          "model_module_version": "1.5.0",
          "model_name": "FloatProgressModel",
          "state": {
            "_dom_classes": [],
            "_model_module": "@jupyter-widgets/controls",
            "_model_module_version": "1.5.0",
            "_model_name": "FloatProgressModel",
            "_view_count": null,
            "_view_module": "@jupyter-widgets/controls",
            "_view_module_version": "1.5.0",
            "_view_name": "ProgressView",
            "bar_style": "success",
            "description": "",
            "description_tooltip": null,
            "layout": "IPY_MODEL_35b954b3b21d454c8df4813b8dd18c89",
            "max": 5148,
            "min": 0,
            "orientation": "horizontal",
            "style": "IPY_MODEL_7697e5f15910418891b93eb42df75d6f",
            "value": 5148
          }
        },
        "59b90742471e4795980c78f8b96f2eaf": {
          "model_module": "@jupyter-widgets/controls",
          "model_module_version": "1.5.0",
          "model_name": "HBoxModel",
          "state": {
            "_dom_classes": [],
            "_model_module": "@jupyter-widgets/controls",
            "_model_module_version": "1.5.0",
            "_model_name": "HBoxModel",
            "_view_count": null,
            "_view_module": "@jupyter-widgets/controls",
            "_view_module_version": "1.5.0",
            "_view_name": "HBoxView",
            "box_style": "",
            "children": [
              "IPY_MODEL_c7edc5b41f944e75af63c9e739fb4a84",
              "IPY_MODEL_f608a2ece32e4e1abc63d87488fe632d"
            ],
            "layout": "IPY_MODEL_289360551b6f45d98e2b7c40edb50071"
          }
        },
        "6995fa1851d64cf1bd0155d75093d81d": {
          "model_module": "@jupyter-widgets/controls",
          "model_module_version": "1.5.0",
          "model_name": "FloatProgressModel",
          "state": {
            "_dom_classes": [],
            "_model_module": "@jupyter-widgets/controls",
            "_model_module_version": "1.5.0",
            "_model_name": "FloatProgressModel",
            "_view_count": null,
            "_view_module": "@jupyter-widgets/controls",
            "_view_module_version": "1.5.0",
            "_view_name": "ProgressView",
            "bar_style": "success",
            "description": "",
            "description_tooltip": null,
            "layout": "IPY_MODEL_f9f4a042f31849ec8428c6145ae91c85",
            "max": 26421880,
            "min": 0,
            "orientation": "horizontal",
            "style": "IPY_MODEL_41561b9eaa204a6dbeaf6e32495c20e2",
            "value": 26421880
          }
        },
        "6deefa8c34254ef2ae17bca59973c241": {
          "model_module": "@jupyter-widgets/controls",
          "model_module_version": "1.5.0",
          "model_name": "HTMLModel",
          "state": {
            "_dom_classes": [],
            "_model_module": "@jupyter-widgets/controls",
            "_model_module_version": "1.5.0",
            "_model_name": "HTMLModel",
            "_view_count": null,
            "_view_module": "@jupyter-widgets/controls",
            "_view_module_version": "1.5.0",
            "_view_name": "HTMLView",
            "description": "",
            "description_tooltip": null,
            "layout": "IPY_MODEL_c3da87b30c62482fa684de4d617b59ae",
            "placeholder": "​",
            "style": "IPY_MODEL_777d81da8c4a41988cafa3ad42fb798c",
            "value": " 6144/? [00:00&lt;00:00, 25201.61it/s]"
          }
        },
        "7697e5f15910418891b93eb42df75d6f": {
          "model_module": "@jupyter-widgets/controls",
          "model_module_version": "1.5.0",
          "model_name": "ProgressStyleModel",
          "state": {
            "_model_module": "@jupyter-widgets/controls",
            "_model_module_version": "1.5.0",
            "_model_name": "ProgressStyleModel",
            "_view_count": null,
            "_view_module": "@jupyter-widgets/base",
            "_view_module_version": "1.2.0",
            "_view_name": "StyleView",
            "bar_color": null,
            "description_width": "initial"
          }
        },
        "777d81da8c4a41988cafa3ad42fb798c": {
          "model_module": "@jupyter-widgets/controls",
          "model_module_version": "1.5.0",
          "model_name": "DescriptionStyleModel",
          "state": {
            "_model_module": "@jupyter-widgets/controls",
            "_model_module_version": "1.5.0",
            "_model_name": "DescriptionStyleModel",
            "_view_count": null,
            "_view_module": "@jupyter-widgets/base",
            "_view_module_version": "1.2.0",
            "_view_name": "StyleView",
            "description_width": ""
          }
        },
        "7da4383634074085a543c636e73a412a": {
          "model_module": "@jupyter-widgets/controls",
          "model_module_version": "1.5.0",
          "model_name": "DescriptionStyleModel",
          "state": {
            "_model_module": "@jupyter-widgets/controls",
            "_model_module_version": "1.5.0",
            "_model_name": "DescriptionStyleModel",
            "_view_count": null,
            "_view_module": "@jupyter-widgets/base",
            "_view_module_version": "1.2.0",
            "_view_name": "StyleView",
            "description_width": ""
          }
        },
        "87602085d9474c84bdae52363007b013": {
          "model_module": "@jupyter-widgets/controls",
          "model_module_version": "1.5.0",
          "model_name": "HBoxModel",
          "state": {
            "_dom_classes": [],
            "_model_module": "@jupyter-widgets/controls",
            "_model_module_version": "1.5.0",
            "_model_name": "HBoxModel",
            "_view_count": null,
            "_view_module": "@jupyter-widgets/controls",
            "_view_module_version": "1.5.0",
            "_view_name": "HBoxView",
            "box_style": "",
            "children": [
              "IPY_MODEL_cc252337e4c84a63ac1ac5ba921d5f7d",
              "IPY_MODEL_207e49feb13246168846addef2a917ef"
            ],
            "layout": "IPY_MODEL_4316969a12734ed297f4415cd3b99e86"
          }
        },
        "89dc74e8eb234ce6a9894785029cc8fc": {
          "model_module": "@jupyter-widgets/controls",
          "model_module_version": "1.5.0",
          "model_name": "DescriptionStyleModel",
          "state": {
            "_model_module": "@jupyter-widgets/controls",
            "_model_module_version": "1.5.0",
            "_model_name": "DescriptionStyleModel",
            "_view_count": null,
            "_view_module": "@jupyter-widgets/base",
            "_view_module_version": "1.2.0",
            "_view_name": "StyleView",
            "description_width": ""
          }
        },
        "a435dd106dda433f9a062857a5a251ed": {
          "model_module": "@jupyter-widgets/controls",
          "model_module_version": "1.5.0",
          "model_name": "HBoxModel",
          "state": {
            "_dom_classes": [],
            "_model_module": "@jupyter-widgets/controls",
            "_model_module_version": "1.5.0",
            "_model_name": "HBoxModel",
            "_view_count": null,
            "_view_module": "@jupyter-widgets/controls",
            "_view_module_version": "1.5.0",
            "_view_name": "HBoxView",
            "box_style": "",
            "children": [
              "IPY_MODEL_5304c70b6f92405b8a1b6547a87d60b4",
              "IPY_MODEL_6deefa8c34254ef2ae17bca59973c241"
            ],
            "layout": "IPY_MODEL_15951c054d204ef58878e2a181c75cbd"
          }
        },
        "a843beb24b0b421c92c4791c72d4eb11": {
          "model_module": "@jupyter-widgets/base",
          "model_module_version": "1.2.0",
          "model_name": "LayoutModel",
          "state": {
            "_model_module": "@jupyter-widgets/base",
            "_model_module_version": "1.2.0",
            "_model_name": "LayoutModel",
            "_view_count": null,
            "_view_module": "@jupyter-widgets/base",
            "_view_module_version": "1.2.0",
            "_view_name": "LayoutView",
            "align_content": null,
            "align_items": null,
            "align_self": null,
            "border": null,
            "bottom": null,
            "display": null,
            "flex": null,
            "flex_flow": null,
            "grid_area": null,
            "grid_auto_columns": null,
            "grid_auto_flow": null,
            "grid_auto_rows": null,
            "grid_column": null,
            "grid_gap": null,
            "grid_row": null,
            "grid_template_areas": null,
            "grid_template_columns": null,
            "grid_template_rows": null,
            "height": null,
            "justify_content": null,
            "justify_items": null,
            "left": null,
            "margin": null,
            "max_height": null,
            "max_width": null,
            "min_height": null,
            "min_width": null,
            "object_fit": null,
            "object_position": null,
            "order": null,
            "overflow": null,
            "overflow_x": null,
            "overflow_y": null,
            "padding": null,
            "right": null,
            "top": null,
            "visibility": null,
            "width": null
          }
        },
        "be5c40b690de40f582bbd781bcdf687f": {
          "model_module": "@jupyter-widgets/controls",
          "model_module_version": "1.5.0",
          "model_name": "HBoxModel",
          "state": {
            "_dom_classes": [],
            "_model_module": "@jupyter-widgets/controls",
            "_model_module_version": "1.5.0",
            "_model_name": "HBoxModel",
            "_view_count": null,
            "_view_module": "@jupyter-widgets/controls",
            "_view_module_version": "1.5.0",
            "_view_name": "HBoxView",
            "box_style": "",
            "children": [
              "IPY_MODEL_6995fa1851d64cf1bd0155d75093d81d",
              "IPY_MODEL_c7204b7b311b4027b22487024e97a3fa"
            ],
            "layout": "IPY_MODEL_44246714cec34b52b316d1d3870c0104"
          }
        },
        "c3da87b30c62482fa684de4d617b59ae": {
          "model_module": "@jupyter-widgets/base",
          "model_module_version": "1.2.0",
          "model_name": "LayoutModel",
          "state": {
            "_model_module": "@jupyter-widgets/base",
            "_model_module_version": "1.2.0",
            "_model_name": "LayoutModel",
            "_view_count": null,
            "_view_module": "@jupyter-widgets/base",
            "_view_module_version": "1.2.0",
            "_view_name": "LayoutView",
            "align_content": null,
            "align_items": null,
            "align_self": null,
            "border": null,
            "bottom": null,
            "display": null,
            "flex": null,
            "flex_flow": null,
            "grid_area": null,
            "grid_auto_columns": null,
            "grid_auto_flow": null,
            "grid_auto_rows": null,
            "grid_column": null,
            "grid_gap": null,
            "grid_row": null,
            "grid_template_areas": null,
            "grid_template_columns": null,
            "grid_template_rows": null,
            "height": null,
            "justify_content": null,
            "justify_items": null,
            "left": null,
            "margin": null,
            "max_height": null,
            "max_width": null,
            "min_height": null,
            "min_width": null,
            "object_fit": null,
            "object_position": null,
            "order": null,
            "overflow": null,
            "overflow_x": null,
            "overflow_y": null,
            "padding": null,
            "right": null,
            "top": null,
            "visibility": null,
            "width": null
          }
        },
        "c7204b7b311b4027b22487024e97a3fa": {
          "model_module": "@jupyter-widgets/controls",
          "model_module_version": "1.5.0",
          "model_name": "HTMLModel",
          "state": {
            "_dom_classes": [],
            "_model_module": "@jupyter-widgets/controls",
            "_model_module_version": "1.5.0",
            "_model_name": "HTMLModel",
            "_view_count": null,
            "_view_module": "@jupyter-widgets/controls",
            "_view_module_version": "1.5.0",
            "_view_name": "HTMLView",
            "description": "",
            "description_tooltip": null,
            "layout": "IPY_MODEL_1514bd0844224a66a365a64964fd6dee",
            "placeholder": "​",
            "style": "IPY_MODEL_13dee24b44ab4625adaf7ec76eeca675",
            "value": " 26422272/? [00:05&lt;00:00, 5036408.26it/s]"
          }
        },
        "c7edc5b41f944e75af63c9e739fb4a84": {
          "model_module": "@jupyter-widgets/controls",
          "model_module_version": "1.5.0",
          "model_name": "FloatProgressModel",
          "state": {
            "_dom_classes": [],
            "_model_module": "@jupyter-widgets/controls",
            "_model_module_version": "1.5.0",
            "_model_name": "FloatProgressModel",
            "_view_count": null,
            "_view_module": "@jupyter-widgets/controls",
            "_view_module_version": "1.5.0",
            "_view_name": "ProgressView",
            "bar_style": "success",
            "description": "",
            "description_tooltip": null,
            "layout": "IPY_MODEL_07e7ba5a9975448f9feeaf42c377b39e",
            "max": 29515,
            "min": 0,
            "orientation": "horizontal",
            "style": "IPY_MODEL_0de7e128008145c9b9026fb8ec885912",
            "value": 29515
          }
        },
        "cc252337e4c84a63ac1ac5ba921d5f7d": {
          "model_module": "@jupyter-widgets/controls",
          "model_module_version": "1.5.0",
          "model_name": "FloatProgressModel",
          "state": {
            "_dom_classes": [],
            "_model_module": "@jupyter-widgets/controls",
            "_model_module_version": "1.5.0",
            "_model_name": "FloatProgressModel",
            "_view_count": null,
            "_view_module": "@jupyter-widgets/controls",
            "_view_module_version": "1.5.0",
            "_view_name": "ProgressView",
            "bar_style": "success",
            "description": "",
            "description_tooltip": null,
            "layout": "IPY_MODEL_a843beb24b0b421c92c4791c72d4eb11",
            "max": 4422102,
            "min": 0,
            "orientation": "horizontal",
            "style": "IPY_MODEL_f31f8e01e48244ffad6f27fcd8880920",
            "value": 4422102
          }
        },
        "f31f8e01e48244ffad6f27fcd8880920": {
          "model_module": "@jupyter-widgets/controls",
          "model_module_version": "1.5.0",
          "model_name": "ProgressStyleModel",
          "state": {
            "_model_module": "@jupyter-widgets/controls",
            "_model_module_version": "1.5.0",
            "_model_name": "ProgressStyleModel",
            "_view_count": null,
            "_view_module": "@jupyter-widgets/base",
            "_view_module_version": "1.2.0",
            "_view_name": "StyleView",
            "bar_color": null,
            "description_width": "initial"
          }
        },
        "f608a2ece32e4e1abc63d87488fe632d": {
          "model_module": "@jupyter-widgets/controls",
          "model_module_version": "1.5.0",
          "model_name": "HTMLModel",
          "state": {
            "_dom_classes": [],
            "_model_module": "@jupyter-widgets/controls",
            "_model_module_version": "1.5.0",
            "_model_name": "HTMLModel",
            "_view_count": null,
            "_view_module": "@jupyter-widgets/controls",
            "_view_module_version": "1.5.0",
            "_view_name": "HTMLView",
            "description": "",
            "description_tooltip": null,
            "layout": "IPY_MODEL_0b40a9733fff44ef9b815fb98ed32a28",
            "placeholder": "​",
            "style": "IPY_MODEL_7da4383634074085a543c636e73a412a",
            "value": " 29696/? [00:01&lt;00:00, 22954.58it/s]"
          }
        },
        "f9f4a042f31849ec8428c6145ae91c85": {
          "model_module": "@jupyter-widgets/base",
          "model_module_version": "1.2.0",
          "model_name": "LayoutModel",
          "state": {
            "_model_module": "@jupyter-widgets/base",
            "_model_module_version": "1.2.0",
            "_model_name": "LayoutModel",
            "_view_count": null,
            "_view_module": "@jupyter-widgets/base",
            "_view_module_version": "1.2.0",
            "_view_name": "LayoutView",
            "align_content": null,
            "align_items": null,
            "align_self": null,
            "border": null,
            "bottom": null,
            "display": null,
            "flex": null,
            "flex_flow": null,
            "grid_area": null,
            "grid_auto_columns": null,
            "grid_auto_flow": null,
            "grid_auto_rows": null,
            "grid_column": null,
            "grid_gap": null,
            "grid_row": null,
            "grid_template_areas": null,
            "grid_template_columns": null,
            "grid_template_rows": null,
            "height": null,
            "justify_content": null,
            "justify_items": null,
            "left": null,
            "margin": null,
            "max_height": null,
            "max_width": null,
            "min_height": null,
            "min_width": null,
            "object_fit": null,
            "object_position": null,
            "order": null,
            "overflow": null,
            "overflow_x": null,
            "overflow_y": null,
            "padding": null,
            "right": null,
            "top": null,
            "visibility": null,
            "width": null
          }
        }
      }
    }
  },
  "nbformat": 4,
  "nbformat_minor": 0
}
